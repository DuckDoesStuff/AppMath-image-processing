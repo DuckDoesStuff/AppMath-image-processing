{
 "cells": [
  {
   "cell_type": "code",
   "execution_count": null,
   "metadata": {},
   "outputs": [],
   "source": [
    "import numpy as np\n",
    "import PIL\n",
    "import matplotlib.pyplot as plt\n",
    "\n",
    "image = PIL.Image.open('./images/child.jpg')\n",
    "image = image.convert(\"RGB\")\n",
    "img = np.array(image, dtype=np.uint8)"
   ]
  },
  {
   "cell_type": "code",
   "execution_count": null,
   "metadata": {},
   "outputs": [],
   "source": [
    "def change_brightness(img, brightness):\n",
    "    brightness = np.clip(int(brightness), -255, 255)\n",
    "    new_image = np.clip(img.astype(np.uint16) + brightness, 0, 255)\n",
    "    return new_image.astype(np.uint8)"
   ]
  },
  {
   "cell_type": "code",
   "execution_count": null,
   "metadata": {},
   "outputs": [],
   "source": [
    "def change_contrast(img, contrast):\n",
    "    contrast = np.clip(float(contrast), -255, 255)\n",
    "    factor = (259 * (contrast + 255)) / (255 * (259 - contrast))\n",
    "    new_image = np.clip(factor * (img.astype(float) - 128) + 128, 0, 255)\n",
    "    return new_image.astype(np.uint8)"
   ]
  },
  {
   "cell_type": "code",
   "execution_count": null,
   "metadata": {},
   "outputs": [],
   "source": [
    "def flip_image(img, dir=1):\n",
    "    if dir == 1:\n",
    "        return np.flip(img, axis=0).astype(np.uint8)\n",
    "    else:\n",
    "        return np.flip(img, axis=1).astype(np.uint8)"
   ]
  },
  {
   "cell_type": "code",
   "execution_count": null,
   "metadata": {},
   "outputs": [],
   "source": [
    "def grayscale_image(img):\n",
    "    return np.dot(img[..., :3], [0.3, 0.59, 0.11]).astype(np.uint8)"
   ]
  },
  {
   "cell_type": "code",
   "execution_count": null,
   "metadata": {},
   "outputs": [],
   "source": [
    "def sepia_image(img):\n",
    "    sepia_matrix = np.array([[0.393, 0.769, 0.189],\n",
    "                            [0.349, 0.686, 0.168],\n",
    "                            [0.272, 0.534, 0.131]])\n",
    "    return np.clip(np.dot(img, sepia_matrix.T), 0, 255).astype(np.uint8)"
   ]
  },
  {
   "cell_type": "code",
   "execution_count": null,
   "metadata": {},
   "outputs": [],
   "source": [
    "def blur_image(img, size, sigma):\n",
    "    kernel = kernel_1d(size, sigma)\n",
    "    result = np.ones_like(img, dtype=np.float64) * 255\n",
    "    \n",
    "    if(img.shape[-1] != 3):\n",
    "        result[:, :] = convolution_channel(img[:,:], kernel)\n",
    "    else:\n",
    "        for c in range(img.shape[-1]):\n",
    "            result[:, :, c] = convolution_channel(img[:,:,c], kernel)\n",
    "\n",
    "    return np.uint8(result)\n",
    "\n",
    "def kernel_1d(size, sigma):\n",
    "    x = np.linspace(-(size // 2), size // 2, size)\n",
    "    kernel = (1 / (np.sqrt(2 * np.pi) * sigma**2)) * np.exp(-x**2 / (2 * sigma**2))\n",
    "    kernel /= np.sum(kernel)\n",
    "    return kernel\n",
    "\n",
    "def convolution_channel(channel, kernel):   \n",
    "    result = np.apply_along_axis(lambda x: np.convolve(x, kernel, mode='same'), axis=0, arr=channel)\n",
    "    result = np.apply_along_axis(lambda x: np.convolve(x, kernel, mode='same'), axis=1, arr=result)\n",
    "    return result"
   ]
  },
  {
   "cell_type": "code",
   "execution_count": null,
   "metadata": {},
   "outputs": [],
   "source": [
    "def sharp_image(img, size, sigma):\n",
    "    identity = np.zeros(shape=size)\n",
    "    identity[size//2] = 1\n",
    "    kernel = 2*identity - kernel_1d(size, sigma)\n",
    "    result = np.ones_like(img, dtype=np.float64) * 255\n",
    "    \n",
    "    if(img.shape[-1] != 3):\n",
    "        result[:, :] = convolution_channel(img[:,:], kernel)\n",
    "    else:\n",
    "        for c in range(img.shape[-1]):\n",
    "            result[:, :, c] = convolution_channel(img[:,:,c], kernel)\n",
    "        \n",
    "    result = np.clip(result, 0, 255)\n",
    "    return np.uint8(result)\n",
    "\n",
    "def kernel_1d(size, sigma):\n",
    "    x = np.linspace(-(size // 2), size // 2, size)\n",
    "    kernel = np.exp(-x**2 / (2 * sigma**2))\n",
    "    kernel /= np.sum(kernel)\n",
    "    return kernel\n",
    "\n",
    "def convolution_channel(channel, kernel):   \n",
    "    result = np.apply_along_axis(lambda x: np.convolve(x, kernel, mode='same'), axis=0, arr=channel)\n",
    "    result = np.apply_along_axis(lambda x: np.convolve(x, kernel, mode='same'), axis=1, arr=result)\n",
    "    return result"
   ]
  },
  {
   "cell_type": "code",
   "execution_count": null,
   "metadata": {},
   "outputs": [],
   "source": [
    "def zoom_image(img, percentage):\n",
    "    new_height = int(img.shape[0] * percentage)\n",
    "    new_width = int(img.shape[1] * percentage)\n",
    "    \n",
    "    center_row = img.shape[0] // 2\n",
    "    center_col = img.shape[1] // 2\n",
    "    \n",
    "    col_start = center_col - new_width // 2\n",
    "    col_end = col_start + new_width\n",
    "    \n",
    "    row_start = center_row - new_height // 2\n",
    "    row_end = row_start + new_height\n",
    "    \n",
    "    return img[row_start:row_end, col_start:col_end, :]"
   ]
  },
  {
   "cell_type": "code",
   "execution_count": null,
   "metadata": {},
   "outputs": [],
   "source": [
    "def crop_circle(img):\n",
    "    center_x = img.shape[1] // 2\n",
    "    center_y = img.shape[0] // 2\n",
    "    y, x = np.ogrid[:img.shape[0], :img.shape[1]]\n",
    "    \n",
    "    radius = min(center_x, center_y)\n",
    "        \n",
    "    mask = ((x - center_x)**2 + (y - center_y)**2) <= radius**2\n",
    "    cropped_image = img.copy()\n",
    "    cropped_image[~mask] = 0    \n",
    "    return cropped_image"
   ]
  },
  {
   "cell_type": "code",
   "execution_count": null,
   "metadata": {},
   "outputs": [],
   "source": [
    "def crop_butterfly(img, elipse_size=8):\n",
    "    center_x = img.shape[1] // 2\n",
    "    center_y = img.shape[0] // 2\n",
    "\n",
    "    elipse = (img.shape[1] / elipse_size, \n",
    "              img.shape[0] / elipse_size, \n",
    "              img.shape[1] - img.shape[1] / elipse_size, \n",
    "              img.shape[0] - img.shape[0] / elipse_size)\n",
    "    \n",
    "    a = np.linalg.norm(np.array([elipse[0], elipse[1]]) - np.array([elipse[2], -elipse[3]])) / 2\n",
    "    b = np.sqrt(a**2 - (np.linalg.norm(np.array([elipse[0], elipse[1]]) - np.array([elipse[2], elipse[3]])) / 2)**2)\n",
    "    \n",
    "    y, x = np.ogrid[:img.shape[0], :img.shape[1]]\n",
    "    ellipse_rotation = 45\n",
    "    x_rot = (x - center_x) * np.cos(np.radians(ellipse_rotation)) - (y - center_y) * np.sin(np.radians(ellipse_rotation))\n",
    "    y_rot = (x - center_x) * np.sin(np.radians(ellipse_rotation)) + (y - center_y) * np.cos(np.radians(ellipse_rotation))\n",
    "    \n",
    "    mask1 = (x_rot)**2 / a**2 + (y_rot) **2 / b**2 <= 1\n",
    "    mask2 = np.flip(mask1, axis=0)\n",
    "    mask = np.logical_or(mask1, mask2)\n",
    "    cropped_img = img.copy()\n",
    "    cropped_img[~mask] = 0\n",
    "    return cropped_img"
   ]
  },
  {
   "cell_type": "code",
   "execution_count": null,
   "metadata": {},
   "outputs": [],
   "source": [
    "new_img = crop_butterfly(img, 8)"
   ]
  },
  {
   "cell_type": "code",
   "execution_count": null,
   "metadata": {},
   "outputs": [],
   "source": [
    "fig, axes = plt.subplots(1, 2, figsize=(20, 10))\n",
    "\n",
    "axes[0].imshow(img)\n",
    "axes[0].axis('off')\n",
    "axes[0].set_title('Before')\n",
    "\n",
    "axes[1].imshow(new_img, cmap='gray')\n",
    "axes[1].axis('off')\n",
    "axes[1].set_title('After')\n",
    "\n",
    "plt.tight_layout()\n",
    "plt.show()"
   ]
  },
  {
   "cell_type": "code",
   "execution_count": null,
   "metadata": {},
   "outputs": [],
   "source": [
    "import os\n",
    "\n",
    "output_img = PIL.Image.fromarray(new_img)\n",
    "\n",
    "output_img.save('./output/new_img.jpg')"
   ]
  }
 ],
 "metadata": {
  "kernelspec": {
   "display_name": "Python 3",
   "language": "python",
   "name": "python3"
  },
  "language_info": {
   "codemirror_mode": {
    "name": "ipython",
    "version": 3
   },
   "file_extension": ".py",
   "mimetype": "text/x-python",
   "name": "python",
   "nbconvert_exporter": "python",
   "pygments_lexer": "ipython3",
   "version": "3.11.3"
  },
  "orig_nbformat": 4
 },
 "nbformat": 4,
 "nbformat_minor": 2
}
