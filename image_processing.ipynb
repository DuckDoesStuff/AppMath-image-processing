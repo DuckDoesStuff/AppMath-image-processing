{
 "cells": [
  {
   "cell_type": "code",
   "execution_count": null,
   "metadata": {},
   "outputs": [],
   "source": [
    "import numpy as np\n",
    "import PIL\n",
    "import matplotlib.pyplot as plt\n",
    "\n",
    "image = PIL.Image.open('./images/my-tam.jpg')\n",
    "img = np.array(image, dtype=np.uint8)\n",
    "# h, w, c = img.shape\n",
    "# image_reshape = img.reshape(h*w, c)"
   ]
  },
  {
   "cell_type": "code",
   "execution_count": null,
   "metadata": {},
   "outputs": [],
   "source": [
    "def change_brightness(img, brightness):\n",
    "    new_image = np.clip(img + brightness, 0, 255)\n",
    "    return new_image.astype(np.uint8)"
   ]
  },
  {
   "cell_type": "code",
   "execution_count": null,
   "metadata": {},
   "outputs": [],
   "source": [
    "def change_contrast(img, contrast):\n",
    "    contrast = max(0.0001, contrast)\n",
    "    new_image = np.clip(img*contrast, 0, 255)\n",
    "    return new_image.astype(np.uint8)"
   ]
  },
  {
   "cell_type": "code",
   "execution_count": null,
   "metadata": {},
   "outputs": [],
   "source": [
    "def flip_image(img, vertical=1):\n",
    "    if vertical == 1:\n",
    "        return np.flip(img, axis=0).astype(np.uint8)\n",
    "    else:\n",
    "        return np.flip(img, axis=1).astype(np.uint8)"
   ]
  },
  {
   "cell_type": "code",
   "execution_count": null,
   "metadata": {},
   "outputs": [],
   "source": [
    "def grayscale_image(img):\n",
    "    return np.dot(img[..., :3], [0.3, 0.59, 0.11]).astype(np.uint8)"
   ]
  },
  {
   "cell_type": "code",
   "execution_count": null,
   "metadata": {},
   "outputs": [],
   "source": [
    "def sepia_image(img):\n",
    "    sepia_matrix = np.array([[0.393, 0.769, 0.189],\n",
    "                            [0.349, 0.686, 0.168],\n",
    "                            [0.272, 0.534, 0.131]])\n",
    "    return np.clip(np.dot(img, sepia_matrix.T), 0, 255).astype(np.uint8)"
   ]
  },
  {
   "cell_type": "code",
   "execution_count": null,
   "metadata": {},
   "outputs": [],
   "source": [
    "new_image = sepia_image(img)"
   ]
  },
  {
   "cell_type": "code",
   "execution_count": null,
   "metadata": {},
   "outputs": [],
   "source": [
    "fig, axes = plt.subplots(1, 2, figsize=(20, 10))\n",
    "\n",
    "axes[0].imshow(image)\n",
    "axes[0].axis('off')\n",
    "axes[0].set_title('Before')\n",
    "\n",
    "axes[1].imshow(new_image, cmap='gray')\n",
    "axes[1].axis('off')\n",
    "axes[1].set_title('After')\n",
    "\n",
    "plt.tight_layout()\n",
    "plt.show()"
   ]
  }
 ],
 "metadata": {
  "kernelspec": {
   "display_name": "Python 3",
   "language": "python",
   "name": "python3"
  },
  "language_info": {
   "codemirror_mode": {
    "name": "ipython",
    "version": 3
   },
   "file_extension": ".py",
   "mimetype": "text/x-python",
   "name": "python",
   "nbconvert_exporter": "python",
   "pygments_lexer": "ipython3",
   "version": "3.11.3"
  },
  "orig_nbformat": 4
 },
 "nbformat": 4,
 "nbformat_minor": 2
}
