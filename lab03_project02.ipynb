{
 "cells": [
  {
   "cell_type": "markdown",
   "metadata": {},
   "source": [
    "# <center>Phân tích ma trận trong Python</center>"
   ]
  },
  {
   "cell_type": "markdown",
   "metadata": {},
   "source": [
    "## Mục lục\n",
    "* [Thực hành](#c1)\n",
    "    * [Trị riêng - Vector riêng](#c11)\n",
    "    * [Chéo hóa](#c12)\n",
    "    * [Chéo hóa trực giao](#c13)\n",
    "* [Đồ án 2: Image Processing](#c2)\n",
    "    * [Nội dung đồ án](#c21)\n",
    "    * [Quy định nộp bài](#c22)\n",
    "    * [Quy định chấm bài](#c23)"
   ]
  },
  {
   "cell_type": "markdown",
   "metadata": {},
   "source": [
    "## Thực hành <a class=\"anchor\" id=\"c1\"></a>"
   ]
  },
  {
   "cell_type": "markdown",
   "metadata": {},
   "source": [
    "Trong lab này, chúng ta sẽ tìm hiểu về phân tích ma trận sử dụng `NumPy`.\n",
    "\n",
    "Cho ma trận:\n",
    "$$A = \\begin{bmatrix}\n",
    "    3 & -2 & 0\\\\ \n",
    "    -2 & 3 & 0\\\\ \n",
    "    0 & 0 & 5\n",
    "    \\end{bmatrix}$$"
   ]
  },
  {
   "cell_type": "code",
   "execution_count": null,
   "metadata": {},
   "outputs": [],
   "source": [
    "import numpy as np"
   ]
  },
  {
   "cell_type": "code",
   "execution_count": null,
   "metadata": {},
   "outputs": [],
   "source": [
    "A = np.array([[3, -2, 0],\n",
    "              [-2, 3, 0],\n",
    "              [0, 0, 5]])"
   ]
  },
  {
   "cell_type": "code",
   "execution_count": null,
   "metadata": {},
   "outputs": [],
   "source": [
    "def is_close(A, B, eps=10e-3):\n",
    "    return np.all(np.abs(A - B) < eps)"
   ]
  },
  {
   "cell_type": "markdown",
   "metadata": {},
   "source": [
    "Các phân tích được giới thiệu trong lab này là:\n",
    "1. Tìm trị riêng và vector riêng\n",
    "2. Chéo hóa\n",
    "3. Chéo hóa trực giao"
   ]
  },
  {
   "cell_type": "markdown",
   "metadata": {},
   "source": [
    "### Trị riêng - Vector riêng <a class=\"anchor\" id=\"c11\"></a>"
   ]
  },
  {
   "cell_type": "markdown",
   "metadata": {},
   "source": [
    "#### Sử dụng thuật toán [Power iteration](https://en.wikipedia.org/wiki/Power_iteration) và Hotelling's Deflation [[1](https://web.stanford.edu/~lmackey/papers/deflation-nips08.pdf), [2](https://www.robots.ox.ac.uk/~sjrob/Teaching/EngComp/ecl4.pdf)]"
   ]
  },
  {
   "cell_type": "code",
   "execution_count": null,
   "metadata": {},
   "outputs": [],
   "source": [
    "def eigen_power_iteration(A, n_iter=1000, eps=10e-5):\n",
    "    # Create a random vector\n",
    "    b_k = np.random.rand(A.shape[1])\n",
    "    b_k_pre = np.zeros(A.shape[1])\n",
    "\n",
    "    # Repeat the process of finding an eigenvector for a maximum of n_iter times\n",
    "    for _ in range(int(n_iter)):\n",
    "        # Calculate the dot product of matrix A and eigenvector\n",
    "        numerator = np.dot(A, b_k)\n",
    "        denominator = np.linalg.norm(numerator)\n",
    "        \n",
    "        b_k = numerator / denominator\n",
    "        \n",
    "        # Terminate the loop when the change in the vector is negligible\n",
    "        if np.all(np.abs(b_k - b_k_pre) < eps):\n",
    "            break\n",
    "        \n",
    "        b_k_pre = b_k\n",
    "        \n",
    "    # Find eigen value (Rayleigh quotient iteration)\n",
    "    lamb = ((b_k @ A) @ b_k) / (b_k @ b_k)\n",
    "\n",
    "    return lamb, b_k # lamb: eigen value, b_k: eigen vector\n",
    "\n",
    "\n",
    "def my_eigens(A, n_iter=1000, eps=10e-5):\n",
    "    eigenvalues = []\n",
    "    eigenvectors = []\n",
    "    \n",
    "    n_rows = A.shape[0]\n",
    "    \n",
    "    # Find all possible eigenvalues and eigenvectors\n",
    "    for _ in range(n_rows):\n",
    "        lamb, b_k = eigen_power_iteration(A, n_iter, eps)\n",
    "        \n",
    "        eigenvalues.append(lamb)\n",
    "        eigenvectors.append(b_k)\n",
    "        \n",
    "        # Hotelling's deflation\n",
    "        b_k = b_k.reshape(-1, 1) # Convert to column vector\n",
    "        A = A - lamb * (b_k @ b_k.T)\n",
    "        \n",
    "    return np.array(eigenvalues), np.array(eigenvectors).T"
   ]
  },
  {
   "cell_type": "code",
   "execution_count": null,
   "metadata": {
    "scrolled": false
   },
   "outputs": [],
   "source": [
    "my_eigenvalues, my_eigenvectors = my_eigens(A)\n",
    "\n",
    "my_eigenvalues, my_eigenvectors"
   ]
  },
  {
   "cell_type": "code",
   "execution_count": null,
   "metadata": {},
   "outputs": [],
   "source": [
    "# Evaluate the first pair of eigenvalue and eigenvector\n",
    "my_lamb = my_eigenvalues[0]\n",
    "my_X = my_eigenvectors[:, 0].reshape(-1, 1)\n",
    "\n",
    "A @ my_X, my_lamb * my_X"
   ]
  },
  {
   "cell_type": "code",
   "execution_count": null,
   "metadata": {},
   "outputs": [],
   "source": [
    "is_close(A @ my_X, my_lamb * my_X)"
   ]
  },
  {
   "cell_type": "markdown",
   "metadata": {},
   "source": [
    "#### Thư viện `np.linalg`"
   ]
  },
  {
   "cell_type": "code",
   "execution_count": null,
   "metadata": {
    "scrolled": true
   },
   "outputs": [],
   "source": [
    "np_eigenvalues, np_eigenvectors = np.linalg.eig(A)\n",
    "\n",
    "np_eigenvalues, np_eigenvectors"
   ]
  },
  {
   "cell_type": "code",
   "execution_count": null,
   "metadata": {},
   "outputs": [],
   "source": [
    "# Evaluate the first pari of eigenvalue and eigenvector\n",
    "np_lamb = np_eigenvalues[0]\n",
    "np_X = np_eigenvectors[:, 0].reshape(-1, 1)\n",
    "\n",
    "A @ np_X, np_lamb * np_X"
   ]
  },
  {
   "cell_type": "code",
   "execution_count": null,
   "metadata": {},
   "outputs": [],
   "source": [
    "is_close(A @ np_X, np_lamb * np_X)"
   ]
  },
  {
   "cell_type": "markdown",
   "metadata": {},
   "source": [
    "### Chéo hóa <a class=\"anchor\" id=\"c12\"></a>"
   ]
  },
  {
   "cell_type": "code",
   "execution_count": null,
   "metadata": {},
   "outputs": [],
   "source": [
    "def my_diag(A):\n",
    "    # Find eigenvalues and eigenvectors\n",
    "    eigenvalues, eigenvectors = np.linalg.eig(A)\n",
    "    \n",
    "    # Order eigenvectors by their corresponding eigenvalues\n",
    "    sorted_idx = np.argsort(eigenvalues)[::-1]\n",
    "    eigenvalues = eigenvalues[sorted_idx]\n",
    "    eigenvectors = eigenvectors[:, sorted_idx]\n",
    "    \n",
    "    P_matrix = eigenvectors\n",
    "    P_inv_matrix = np.linalg.inv(P_matrix)\n",
    "    D_matrix = np.diag(eigenvalues)\n",
    "    \n",
    "    return P_matrix, D_matrix, P_inv_matrix"
   ]
  },
  {
   "cell_type": "code",
   "execution_count": null,
   "metadata": {},
   "outputs": [],
   "source": [
    "np_eigenvalues, np_eigenvectors"
   ]
  },
  {
   "cell_type": "code",
   "execution_count": null,
   "metadata": {},
   "outputs": [],
   "source": [
    "np_eigenvalues[np.argsort(np_eigenvalues)[::-1]], np_eigenvectors[:, np.argsort(np_eigenvalues)[::-1]]"
   ]
  },
  {
   "cell_type": "code",
   "execution_count": null,
   "metadata": {
    "scrolled": true
   },
   "outputs": [],
   "source": [
    "P, D, P_inv = my_diag(A)\n",
    "(P, D, P_inv)"
   ]
  },
  {
   "cell_type": "code",
   "execution_count": null,
   "metadata": {},
   "outputs": [],
   "source": [
    "D, P_inv @ A @ P"
   ]
  },
  {
   "cell_type": "code",
   "execution_count": null,
   "metadata": {},
   "outputs": [],
   "source": [
    "is_close(D, P_inv @ A @ P)"
   ]
  },
  {
   "cell_type": "markdown",
   "metadata": {},
   "source": [
    "### Chéo hóa trực giao <a class=\"anchor\" id=\"c13\"></a>"
   ]
  },
  {
   "cell_type": "code",
   "execution_count": null,
   "metadata": {},
   "outputs": [],
   "source": [
    "def my_orth_diag(A):\n",
    "    # Find eigenvalues and eigenvectors\n",
    "    eigenvalues, eigenvectors = np.linalg.eig(A)\n",
    "    \n",
    "    # Order eigenvectors by their corresponding eigenvalues\n",
    "    sorted_idx = np.argsort(eigenvalues)[::-1]\n",
    "    eigenvalues = eigenvalues[sorted_idx]\n",
    "    eigenvectors = eigenvectors[:, sorted_idx]\n",
    "    \n",
    "    # Orthogonal\n",
    "    Q_matrix, _ = np.linalg.qr(eigenvectors)\n",
    "    \n",
    "    Q_transpose = Q_matrix.T\n",
    "    D_matrix = np.diag(eigenvalues)\n",
    "    \n",
    "    return Q_matrix, D_matrix, Q_transpose"
   ]
  },
  {
   "cell_type": "code",
   "execution_count": null,
   "metadata": {
    "scrolled": true
   },
   "outputs": [],
   "source": [
    "(Q, D, Q_T) = my_orth_diag(A)\n",
    "(Q, D, Q_T)"
   ]
  },
  {
   "cell_type": "code",
   "execution_count": null,
   "metadata": {},
   "outputs": [],
   "source": [
    "D, Q_T @ A @ Q"
   ]
  },
  {
   "cell_type": "code",
   "execution_count": null,
   "metadata": {},
   "outputs": [],
   "source": [
    "is_close(D, Q_T @ A @ Q)"
   ]
  },
  {
   "cell_type": "markdown",
   "metadata": {},
   "source": [
    "---"
   ]
  },
  {
   "cell_type": "markdown",
   "metadata": {},
   "source": [
    "## Đồ án 2: Image Processing <a class=\"anchor\" id=\"c2\"></a>"
   ]
  },
  {
   "cell_type": "markdown",
   "metadata": {},
   "source": [
    "### Nội dung đồ án <a class=\"anchor\" id=\"c21\"></a>"
   ]
  },
  {
   "cell_type": "markdown",
   "metadata": {},
   "source": [
    "Nhắc lại: Trong đồ án 1, bạn đã được giới thiệu rằng ảnh được lưu trữ dưới dạng ma trận các điểm ảnh. Mỗi điểm ảnh có thể là một giá trị (ảnh xám) hoặc một vector (ảnh màu).\n",
    "\n",
    "Trong đồ án này, bạn được yêu cầu thực hiện các chức năng xử lý ảnh cơ bản sau:\n",
    "    \n",
    "1. Thay đổi độ sáng cho ảnh (1 điểm)\n",
    "\n",
    "![img](https://imgur.com/oJ8bTv7.jpg)\n",
    "\n",
    "2. Thay đổi độ tương phản (1 điểm)\n",
    "\n",
    "![img](https://imgur.com/wl8MSu3.jpg)\n",
    "\n",
    "3. Lật ảnh (ngang - dọc) (1 điểm)\n",
    "reverse hàng hoặc cột\n",
    "\n",
    "![img](https://imgur.com/MOOvIhN.jpg)\n",
    "\n",
    "4. Chuyển đổi ảnh RGB thành ảnh xám/sepia (2 điểm)\n",
    "\n",
    "- Ảnh xám\n",
    "lấy $R*0.3 + G*0.59 + B*0.11$\n",
    "\n",
    "![img](https://imgur.com/XEfRXWE.jpg)\n",
    "\n",
    "- Ảnh sepia\n",
    "\n",
    "![img](https://imgur.com/YXUPjHY.jpg)\n",
    "\n",
    "Keywords: convert RGB to grayscale/sepia\n",
    "\n",
    "5. Làm mờ/sắc nét ảnh (2 điểm)\n",
    "\n",
    "- Làm mờ\n",
    "(Làm giảm sự chênh lệch màu sắc giữa các màu thì nó sẽ mờ đi)\n",
    "(Có thể là lấy trung bình các màu xung quanh ô nxn, gaussian blur)\n",
    "\n",
    "![img](https://imgur.com/wZT4vUa.jpg)\n",
    "\n",
    "- Làm sắc nét\n",
    "\n",
    "![img](https://imgur.com/H2Fq4Ne.jpg)\n",
    "\n",
    "Tham khảo tại [đây](https://en.wikipedia.org/wiki/Kernel_(image_processing))\n",
    "\n",
    "6. Cắt ảnh theo kích thước (cắt ở trung tâm) (1 điểm)\n",
    "Sử dụng slicing (lấy kích thước ban đầu và % để tính ra vị trí slice)\n",
    "\n",
    "![img](https://imgur.com/fXebjfO.jpg)\n",
    "\n",
    "7. Cắt ảnh theo khung hình tròn (1 điểm)\n",
    "Tính ra đường tròn và chuyển các pixel bên ngoài hình tròn thành màu đen\n",
    "\n",
    "![img](https://imgur.com/DEpimhC.jpg)\n",
    "\n",
    "8. Viết hàm main xử lý (1 điểm) với các yêu cầu sau:\n",
    "\n",
    "- Cho phép người dùng nhập vào tên tập tin ảnh mỗi khi hàm main được thực thi.\n",
    "- Cho phép người dùng lựa chọn chức năng xử lý ảnh (từ 1 đến 7, đối với chức năng 4 cho phép lựa chọn giữa lật ngang hoặc lật dọc hoặc in ra cả 2 luôn). Lựa chọn 0 cho phép thực hiện tất cả chức năng với tên file đầu ra tương ứng với từng chức năng. Ví dụ:\n",
    "    - Đầu vào: `cat.png`\n",
    "    - Chức năng: Làm mờ\n",
    "    - Đầu ra: `cat_blur.png`\n",
    "    - Nếu chọn 0 thì phải thực hiện từ đầu đến đuôi, với đầu ra của 1 sẽ là đầu vào của 2, 2 -> 3, ..."
   ]
  },
  {
   "cell_type": "markdown",
   "metadata": {},
   "source": [
    "Trong đồ án này, bạn <font style=\"color:red\">**CHỈ ĐƯỢC PHÉP**</font> sử dụng các thư viện sau: `PIL`, `numpy`, `matplotlib`.\n",
    "\n",
    "Cụ thể, nếu đề yêu cầu bạn viết ra chức năng đó, thì bạn phải thực sự viết ra chức năng đó chứ không phải gọi hàm có sẵn.\n",
    "\n",
    "- Các bạn sử dụng `PIL` (`open(), save()` từ `Image`) để đọc và ghi; `Matplotlib` (`imshow()` từ `pyplot`) để hiển thị ảnh.\n",
    "\n",
    "- Được phép sử dụng thư viện `NumPy` tùy ý.\n",
    "\n",
    "Lưu ý: Để được **điểm tối đa** cho từng chức năng, thời gian thực thi của mỗi chức năng phải nằm trong khoảng thời gian chấp nhận được. Ví dụ với chức năng làm mờ (phức tạp nhất) có thời gian thực thi trên ảnh với kích thước $512 \\times 512$ là dưới 15 giây."
   ]
  },
  {
   "cell_type": "markdown",
   "metadata": {},
   "source": [
    "#### Nâng cao - Không bắt buộc (Cộng 0.5 điểm vào điểm đồ án 2)\n",
    "\n",
    "Sinh viên thực cắt nội dung ảnh theo khung được áp lên, với khung là 2 hình ellip chéo nhau như các ảnh sau:\n",
    "\n",
    "- Khung là 2 hình ellip chéo nhau\n",
    "\n",
    "![img](https://i.imgur.com/fPlYioC.png)\n"
   ]
  },
  {
   "cell_type": "markdown",
   "metadata": {},
   "source": [
    "### Quy định bài nộp <a class=\"anchor\" id=\"c22\"></a>"
   ]
  },
  {
   "cell_type": "markdown",
   "metadata": {},
   "source": [
    "* Thực hiện toàn bộ bài làm trên 1 tập tin Jupyter Notebook (.ipynb) hoặc Python (.py)\n",
    "\n",
    "\n",
    "* Bạn nộp tập tin `MSSV.zip` được nén từ thư mục MSSV chứa các tập tin sau:\n",
    "    1. Báo cáo toàn bộ bài làm: `MSSV.pdf`\n",
    "    2. Mã nguồn: `MSSV.ipynb` hoặc `MSSV.py`\n",
    "\n",
    "\n",
    "* Trong đó, nội dung tập tin báo cáo gồm có:\n",
    "    - Thông tin cá nhân: Họ và tên, MSSV\n",
    "    - Liệt kê các chức năng đã hoàn thành\n",
    "    - Ý tưởng thực hiện, mô tả các hàm chức năng\n",
    "    - Hình ảnh kết quả với từng chức năng\n",
    "    - Báo cáo cần có số trang và tài liệu tham khảo\n",
    "\n",
    "* Báo cáo cần có:\n",
    "    - Bảng thứ tự từng chức năng và mức độ hoàn thành. Hoặc để hình ảnh\n",
    "    - Khi trình bày 1 hàm, cần để chức năng, đầu vào, đầu ra là gì\n",
    "    - Trình bày ý tưởng ngắn gọn\n",
    "    - Mô tả - trình bày cách cài đặt\n",
    "    \n",
    "\n",
    "* Ví dụ minh họa cây thư mục bài nộp sau khi giải nén tập tin `MSSV.zip` như sau:\n",
    "```\n",
    "MSSV\n",
    "├── MSSV.pdf\n",
    "└── MSSV.ipynb hoặc MSSV.py\n",
    "```"
   ]
  },
  {
   "cell_type": "markdown",
   "metadata": {},
   "source": [
    "### Quy định chấm bài <a class=\"anchor\" id=\"c23\"></a>"
   ]
  },
  {
   "cell_type": "markdown",
   "metadata": {},
   "source": [
    "Đây là đồ án chiếm 15%.\n",
    "\n",
    "Những trường hợp sau đây sẽ bị 0 điểm toàn bộ đồ án:\n",
    "\n",
    "- Sử dụng các thư viện và các hàm xử lý ảnh có sẵn mà không được cho phép\n",
    "- Nộp sai quy định\n",
    "- Không có báo cáo\n",
    "- Thực thi mã nguồn báo lỗi\n",
    "\n",
    "<font style=\"color:red\">**LƯU Ý: SAO CHÉP BÀI LÀM CỦA NHAU SẼ BỊ 0 ĐIỂM TOÀN BỘ PHẦN THỰC HÀNH**</font>"
   ]
  }
 ],
 "metadata": {
  "kernelspec": {
   "display_name": "Python 3.8.5 ('base')",
   "language": "python",
   "name": "python3"
  },
  "language_info": {
   "codemirror_mode": {
    "name": "ipython",
    "version": 3
   },
   "file_extension": ".py",
   "mimetype": "text/x-python",
   "name": "python",
   "nbconvert_exporter": "python",
   "pygments_lexer": "ipython3",
   "version": "3.11.3"
  },
  "toc-autonumbering": false,
  "vscode": {
   "interpreter": {
    "hash": "15af99fd1a1a3f0a3416ea421564e792a8676a13670c2eed127d89ab0518a27b"
   }
  }
 },
 "nbformat": 4,
 "nbformat_minor": 4
}
